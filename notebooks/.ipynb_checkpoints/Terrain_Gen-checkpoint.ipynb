{
 "cells": [
  {
   "cell_type": "markdown",
   "metadata": {},
   "source": [
    "\t\tfor (int y = 0; y < mapHeight; y++) {\n",
    "\t\t\tfor (int x = 0; x < mapWidth; x++) {\n",
    "\t\t\n",
    "\t\t\t\tfloat amplitude = 1;\n",
    "\t\t\t\tfloat frequency = 1;\n",
    "\t\t\t\tfloat noiseHeight = 0;\n",
    "\n",
    "\t\t\t\tfor (int i = 0; i < octaves; i++) {\n",
    "\t\t\t\t\tfloat sampleX = (x-halfWidth) / scale * frequency + octaveOffsets[i].x;\n",
    "\t\t\t\t\tfloat sampleY = (y-halfHeight) / scale * frequency + octaveOffsets[i].y;\n",
    "\n",
    "\t\t\t\t\tfloat perlinValue = Mathf.PerlinNoise (sampleX, sampleY) * 2 - 1;\n",
    "\t\t\t\t\tnoiseHeight += perlinValue * amplitude;\n",
    "\n",
    "\t\t\t\t\tamplitude *= persistance;\n",
    "\t\t\t\t\tfrequency *= lacunarity;\n",
    "\t\t\t\t}\n",
    "\n",
    "\t\t\t\tif (noiseHeight > maxNoiseHeight) {\n",
    "\t\t\t\t\tmaxNoiseHeight = noiseHeight;\n",
    "\t\t\t\t} else if (noiseHeight < minNoiseHeight) {\n",
    "\t\t\t\t\tminNoiseHeight = noiseHeight;\n",
    "\t\t\t\t}\n",
    "\t\t\t\tnoiseMap [x, y] = noiseHeight;\n",
    "\t\t\t}\n",
    "\t\t}\n",
    "\n",
    "\t\tfor (int y = 0; y < mapHeight; y++) {\n",
    "\t\t\tfor (int x = 0; x < mapWidth; x++) {\n",
    "\t\t\t\tnoiseMap [x, y] = Mathf.InverseLerp (minNoiseHeight, maxNoiseHeight, noiseMap [x, y]);\n",
    "\t\t\t}\n",
    "\t\t}\n",
    "\n",
    "\t\treturn noiseMap;\n",
    "\t}\n",
    "\n",
    "}"
   ]
  },
  {
   "cell_type": "code",
   "execution_count": 1,
   "metadata": {},
   "outputs": [],
   "source": [
    "import matplotlib.pyplot as plt"
   ]
  },
  {
   "cell_type": "code",
   "execution_count": 9,
   "metadata": {},
   "outputs": [],
   "source": [
    "from PIL import Image\n",
    "import random"
   ]
  },
  {
   "cell_type": "code",
   "execution_count": null,
   "metadata": {},
   "outputs": [],
   "source": [
    "def GenerateNoiseMap(mapWidth, mapHeight, seed, scale, octaves, persistance, lacunarity,offset) :\n",
    "    noiseMap = Image.new(size = (mapWidth,mapHeight), mode = 'RGB')\n",
    "    random.seed(seed)\n",
    "    octaveOffsets = []\n",
    "    for octave in range(octaves):\n",
    "        offsetX = randint(-100000, 100000) + offset.x\n",
    "        offsetY = randint(-100000, 100000) + offset.y\n",
    "        octaveOffsets.append({\n",
    "            'x':offsetX,\n",
    "            'y':offsetY\n",
    "        })\n",
    "    scale = max(scale, 0.0001)\n",
    "    maxNoiseHeight = -100000\n",
    "    minNoiseHeight = 100000\n",
    "\n",
    "    halfWidth = mapWidth / 2\n",
    "    halfHeight = mapHeight / 2\n",
    "    \n",
    "    for y in range(mapHeight):\n",
    "        for x in range(mapWidth):\n",
    "            amplitude = 1\n",
    "            frequency = 1\n",
    "            noiseHeight = 0\n",
    "            for octave in octaveOffsets:\n",
    "                sampleX = (x-halfWidth) / scale * frequency + octave.x;\n",
    "                sampleY = (x-halfHeight) / scale * frequency + octave.y;"
   ]
  },
  {
   "cell_type": "code",
   "execution_count": 8,
   "metadata": {},
   "outputs": [
    {
     "data": {
      "image/png": "[encoded data removed]",
      "text/plain": [
       "<PIL.Image.Image image mode=RGB size=220x220 at 0x21B2F7C1808>"
      ]
     },
     "execution_count": 8,
     "metadata": {},
     "output_type": "execute_result"
    }
   ],
   "source": [
    "Image.new(size = (220,220), mode = 'RGB')"
   ]
  },
  {
   "cell_type": "code",
   "execution_count": 10,
   "metadata": {},
   "outputs": [
    {
     "data": {
      "text/plain": [
       "1155"
      ]
     },
     "execution_count": 10,
     "metadata": {},
     "output_type": "execute_result"
    }
   ],
   "source": [
    "random.randint(100,1200)"
   ]
  },
  {
   "cell_type": "code",
   "execution_count": null,
   "metadata": {},
   "outputs": [],
   "source": []
  }
 ],
 "metadata": {
  "kernelspec": {
   "display_name": "Python 3",
   "language": "python",
   "name": "python3"
  },
  "language_info": {
   "codemirror_mode": {
    "name": "ipython",
    "version": 3
   },
   "file_extension": ".py",
   "mimetype": "text/x-python",
   "name": "python",
   "nbconvert_exporter": "python",
   "pygments_lexer": "ipython3",
   "version": "3.7.5"
  }
 },
 "nbformat": 4,
 "nbformat_minor": 2
}
